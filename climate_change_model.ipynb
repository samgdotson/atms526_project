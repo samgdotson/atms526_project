{
 "cells": [
  {
   "cell_type": "code",
   "execution_count": 1,
   "metadata": {},
   "outputs": [],
   "source": [
    "import numpy as np\n",
    "import matplotlib.pyplot as plt\n",
    "import pandas as pd\n",
    "import glob\n",
    "from sklearn.metrics import mean_squared_error\n",
    "import statsmodels.api as sm\n",
    "import warnings\n",
    "warnings.filterwarnings('ignore')\n",
    "from energy_model import *\n",
    "from eia_codes import eia_codes \n",
    "plt.style.use('seaborn')"
   ]
  },
  {
   "cell_type": "markdown",
   "metadata": {},
   "source": [
    "# Calculate the Power Derating for a Nuclear Plant Due to Climate Change\n",
    "\n",
    "## Step 1: Determine the temperature distribution under an IPCC climate change scenario.\n",
    "\n",
    "\n",
    "1. Choose the nuclear plant\n",
    "2. Choose the IPCC scenario\n",
    "3. Upload the temperature data from that site\n",
    "4. Calculate the mean and standard deviation for summer temperatures\n",
    "5. Shift the mean temperature as specified by the IPCC scenario\n",
    "6. Draw 60 temperature values from the new distribution"
   ]
  },
  {
   "cell_type": "code",
   "execution_count": 2,
   "metadata": {},
   "outputs": [
    {
     "data": {
      "text/html": [
       "<div>\n",
       "<style scoped>\n",
       "    .dataframe tbody tr th:only-of-type {\n",
       "        vertical-align: middle;\n",
       "    }\n",
       "\n",
       "    .dataframe tbody tr th {\n",
       "        vertical-align: top;\n",
       "    }\n",
       "\n",
       "    .dataframe thead th {\n",
       "        text-align: right;\n",
       "    }\n",
       "</style>\n",
       "<table border=\"1\" class=\"dataframe\">\n",
       "  <thead>\n",
       "    <tr style=\"text-align: right;\">\n",
       "      <th></th>\n",
       "      <th>Unnamed: 0</th>\n",
       "      <th>Plant ID</th>\n",
       "      <th>Plant Name</th>\n",
       "      <th>m</th>\n",
       "      <th>b</th>\n",
       "      <th>rsquared</th>\n",
       "    </tr>\n",
       "  </thead>\n",
       "  <tbody>\n",
       "    <tr>\n",
       "      <th>0</th>\n",
       "      <td>0</td>\n",
       "      <td>2589.0</td>\n",
       "      <td>Nine Mile Point Nuclear Station</td>\n",
       "      <td>0.768479</td>\n",
       "      <td>3.962971</td>\n",
       "      <td>0.900353</td>\n",
       "    </tr>\n",
       "    <tr>\n",
       "      <th>1</th>\n",
       "      <td>1</td>\n",
       "      <td>3265.0</td>\n",
       "      <td>Oconee</td>\n",
       "      <td>0.577095</td>\n",
       "      <td>9.851814</td>\n",
       "      <td>0.578522</td>\n",
       "    </tr>\n",
       "  </tbody>\n",
       "</table>\n",
       "</div>"
      ],
      "text/plain": [
       "   Unnamed: 0  Plant ID                       Plant Name         m         b  \\\n",
       "0           0    2589.0  Nine Mile Point Nuclear Station  0.768479  3.962971   \n",
       "1           1    3265.0                           Oconee  0.577095  9.851814   \n",
       "\n",
       "   rsquared  \n",
       "0  0.900353  \n",
       "1  0.578522  "
      ]
     },
     "execution_count": 2,
     "metadata": {},
     "output_type": "execute_result"
    }
   ],
   "source": [
    "# upload the stream model\n",
    "power_model = pd.read_csv('linear_models/power_model.csv')\n",
    "stream_model = pd.read_csv('linear_models/stream_model.csv')\n",
    "stream_model.head(2)"
   ]
  },
  {
   "cell_type": "code",
   "execution_count": 3,
   "metadata": {},
   "outputs": [],
   "source": [
    "plants = stream_model['Plant ID'].values.astype('int')"
   ]
  },
  {
   "cell_type": "code",
   "execution_count": 4,
   "metadata": {},
   "outputs": [],
   "source": [
    "pid = 6014  # choosing a good one to test the procedure"
   ]
  },
  {
   "cell_type": "code",
   "execution_count": 5,
   "metadata": {},
   "outputs": [
    {
     "name": "stdout",
     "output_type": "stream",
     "text": [
      "BrunswickNuclear\n"
     ]
    },
    {
     "data": {
      "text/html": [
       "<div>\n",
       "<style scoped>\n",
       "    .dataframe tbody tr th:only-of-type {\n",
       "        vertical-align: middle;\n",
       "    }\n",
       "\n",
       "    .dataframe tbody tr th {\n",
       "        vertical-align: top;\n",
       "    }\n",
       "\n",
       "    .dataframe thead th {\n",
       "        text-align: right;\n",
       "    }\n",
       "</style>\n",
       "<table border=\"1\" class=\"dataframe\">\n",
       "  <thead>\n",
       "    <tr style=\"text-align: right;\">\n",
       "      <th></th>\n",
       "      <th>air_tempC</th>\n",
       "    </tr>\n",
       "    <tr>\n",
       "      <th>date</th>\n",
       "      <th></th>\n",
       "    </tr>\n",
       "  </thead>\n",
       "  <tbody>\n",
       "    <tr>\n",
       "      <th>2007-01-31</th>\n",
       "      <td>10.772849</td>\n",
       "    </tr>\n",
       "    <tr>\n",
       "      <th>2007-02-28</th>\n",
       "      <td>8.142113</td>\n",
       "    </tr>\n",
       "  </tbody>\n",
       "</table>\n",
       "</div>"
      ],
      "text/plain": [
       "            air_tempC\n",
       "date                 \n",
       "2007-01-31  10.772849\n",
       "2007-02-28   8.142113"
      ]
     },
     "execution_count": 5,
     "metadata": {},
     "output_type": "execute_result"
    }
   ],
   "source": [
    "# get temperature data\n",
    "plant_name = eia_codes[pid].replace(' ', '')\n",
    "print(plant_name)\n",
    "temp_file = f'nrel_psm_data/{plant_name}_Temperature_2007_2020.csv'\n",
    "temp_df = pd.read_csv(temp_file)\n",
    "temp_df.rename(columns={'time':'date', f'Temp_{plant_name}':'air_tempC'},inplace=True)\n",
    "temp_df.index = pd.to_datetime(temp_df.date)\n",
    "temp_df.drop(columns='date',inplace=True)\n",
    "# resample by month\n",
    "temp_monthly = temp_df.resample('M').mean()\n",
    "temp_monthly.head(2)"
   ]
  },
  {
   "cell_type": "code",
   "execution_count": 6,
   "metadata": {},
   "outputs": [],
   "source": [
    "delta_shift = 2.0 # degrees celsius under RCP8.5\n",
    "summer_mask = (temp_monthly.index.month > 5)  & (temp_monthly.index.month < 9)\n",
    "# df = temp_monthly[summer_mask] \n",
    "df = temp_monthly\n",
    "curr_mean = df.air_tempC.mean()\n",
    "curr_std = df.air_tempC.std()\n",
    "curr_min = df.air_tempC.min()\n",
    "curr_max = df.air_tempC.max()"
   ]
  },
  {
   "cell_type": "code",
   "execution_count": 7,
   "metadata": {},
   "outputs": [
    {
     "data": {
      "text/plain": [
       "<matplotlib.legend.Legend at 0x7f3e6f7be940>"
      ]
     },
     "execution_count": 7,
     "metadata": {},
     "output_type": "execute_result"
    },
    {
     "data": {
      "image/png": "[encoded data removed]",
      "text/plain": [
       "<Figure size 576x396 with 1 Axes>"
      ]
     },
     "metadata": {},
     "output_type": "display_data"
    }
   ],
   "source": [
    "# plot and sample\n",
    "import scipy.stats as sst\n",
    "\n",
    "# set random seed\n",
    "np.random.seed(235)\n",
    "N = 12*20\n",
    "fig, ax = plt.subplots()\n",
    "df.hist(ax=ax,density=True, bins=8)\n",
    "x = np.linspace(0, 45, N)\n",
    "y_i = sst.norm.pdf(x, curr_mean, curr_std)\n",
    "y_shift = sst.norm.pdf(x, curr_mean+delta_shift, curr_std)\n",
    "s_i = np.random.normal(curr_mean+delta_shift, curr_std, N)\n",
    "ax.hist(s_i, density=True, color='tab:orange', alpha=0.5)\n",
    "ax.plot(x, y_i, label='Current Distribution')\n",
    "ax.plot(x, y_shift, label='Delta Shift', color='tab:red')\n",
    "ax.set_title(f'Temperature Distribution at {plant_name}')\n",
    "ax.legend()"
   ]
  },
  {
   "cell_type": "markdown",
   "metadata": {},
   "source": [
    "## Step 2: Calculate the Stream Temperature at each of the new air temps."
   ]
  },
  {
   "cell_type": "code",
   "execution_count": 8,
   "metadata": {},
   "outputs": [],
   "source": [
    "# create model dataframe\n",
    "model_df = pd.DataFrame({'modeled_air_temps':s_i})\n",
    "m = stream_model[stream_model['Plant ID'] == pid].m.values[0]\n",
    "b = stream_model[stream_model['Plant ID'] == pid].b.values[0]\n",
    "\n",
    "air_to_stream = lambda T: m*T + b\n",
    "\n",
    "model_df['modeled_stream_temps'] = model_df['modeled_air_temps'].apply(air_to_stream)"
   ]
  },
  {
   "cell_type": "code",
   "execution_count": 9,
   "metadata": {},
   "outputs": [
    {
     "data": {
      "text/html": [
       "<div>\n",
       "<style scoped>\n",
       "    .dataframe tbody tr th:only-of-type {\n",
       "        vertical-align: middle;\n",
       "    }\n",
       "\n",
       "    .dataframe tbody tr th {\n",
       "        vertical-align: top;\n",
       "    }\n",
       "\n",
       "    .dataframe thead th {\n",
       "        text-align: right;\n",
       "    }\n",
       "</style>\n",
       "<table border=\"1\" class=\"dataframe\">\n",
       "  <thead>\n",
       "    <tr style=\"text-align: right;\">\n",
       "      <th></th>\n",
       "      <th>modeled_air_temps</th>\n",
       "      <th>modeled_stream_temps</th>\n",
       "    </tr>\n",
       "  </thead>\n",
       "  <tbody>\n",
       "    <tr>\n",
       "      <th>0</th>\n",
       "      <td>20.434264</td>\n",
       "      <td>20.936538</td>\n",
       "    </tr>\n",
       "    <tr>\n",
       "      <th>1</th>\n",
       "      <td>25.346701</td>\n",
       "      <td>25.734207</td>\n",
       "    </tr>\n",
       "    <tr>\n",
       "      <th>2</th>\n",
       "      <td>29.847873</td>\n",
       "      <td>30.130220</td>\n",
       "    </tr>\n",
       "    <tr>\n",
       "      <th>3</th>\n",
       "      <td>10.434143</td>\n",
       "      <td>11.170045</td>\n",
       "    </tr>\n",
       "    <tr>\n",
       "      <th>4</th>\n",
       "      <td>19.047208</td>\n",
       "      <td>19.581887</td>\n",
       "    </tr>\n",
       "  </tbody>\n",
       "</table>\n",
       "</div>"
      ],
      "text/plain": [
       "   modeled_air_temps  modeled_stream_temps\n",
       "0          20.434264             20.936538\n",
       "1          25.346701             25.734207\n",
       "2          29.847873             30.130220\n",
       "3          10.434143             11.170045\n",
       "4          19.047208             19.581887"
      ]
     },
     "execution_count": 9,
     "metadata": {},
     "output_type": "execute_result"
    }
   ],
   "source": [
    "model_df.head()"
   ]
  },
  {
   "cell_type": "markdown",
   "metadata": {},
   "source": [
    "## Step 3: Calculate the $\\Delta$E at max power and Check if Max Flowrate is Exceeded"
   ]
  },
  {
   "cell_type": "code",
   "execution_count": 10,
   "metadata": {},
   "outputs": [],
   "source": [
    "plant_data = pd.read_csv(f'energy_balance/energy_balance_plant_{pid}.csv')"
   ]
  },
  {
   "cell_type": "code",
   "execution_count": 11,
   "metadata": {},
   "outputs": [
    {
     "data": {
      "text/html": [
       "<div>\n",
       "<style scoped>\n",
       "    .dataframe tbody tr th:only-of-type {\n",
       "        vertical-align: middle;\n",
       "    }\n",
       "\n",
       "    .dataframe tbody tr th {\n",
       "        vertical-align: top;\n",
       "    }\n",
       "\n",
       "    .dataframe thead th {\n",
       "        text-align: right;\n",
       "    }\n",
       "</style>\n",
       "<table border=\"1\" class=\"dataframe\">\n",
       "  <thead>\n",
       "    <tr style=\"text-align: right;\">\n",
       "      <th></th>\n",
       "      <th>date</th>\n",
       "      <th>Plant ID</th>\n",
       "      <th>diversion_rate_kgM</th>\n",
       "      <th>withdrawal_rate_kgM</th>\n",
       "      <th>discharge_rate_kgM</th>\n",
       "      <th>consumption_rate_kgM</th>\n",
       "      <th>avg_intake_temp_C</th>\n",
       "      <th>max_intake_temp_C</th>\n",
       "      <th>avg_discharge_temp_C</th>\n",
       "      <th>max_discharge_temp_C</th>\n",
       "      <th>Nameplate Capacity (MW)</th>\n",
       "      <th>max_withdrawal_rate_kgM</th>\n",
       "      <th>elc_mmbtu_in</th>\n",
       "      <th>elc_mwh_out</th>\n",
       "      <th>elc_in_kj</th>\n",
       "      <th>elc_out_kj</th>\n",
       "      <th>modeled_discharge_temp</th>\n",
       "      <th>R_combined</th>\n",
       "      <th>temp_limit</th>\n",
       "    </tr>\n",
       "  </thead>\n",
       "  <tbody>\n",
       "    <tr>\n",
       "      <th>0</th>\n",
       "      <td>2016-01-31</td>\n",
       "      <td>6014.0</td>\n",
       "      <td>0.0</td>\n",
       "      <td>6.945383e+10</td>\n",
       "      <td>6.945383e+10</td>\n",
       "      <td>0.0</td>\n",
       "      <td>10.277778</td>\n",
       "      <td>17.500000</td>\n",
       "      <td>31.111111</td>\n",
       "      <td>100.0</td>\n",
       "      <td>2003.2</td>\n",
       "      <td>1.758973e+11</td>\n",
       "      <td>14311933.0</td>\n",
       "      <td>1368449.0</td>\n",
       "      <td>1.510052e+13</td>\n",
       "      <td>4.926416e+12</td>\n",
       "      <td>29.050922</td>\n",
       "      <td>0.464182</td>\n",
       "      <td>34.8</td>\n",
       "    </tr>\n",
       "    <tr>\n",
       "      <th>1</th>\n",
       "      <td>2016-02-29</td>\n",
       "      <td>6014.0</td>\n",
       "      <td>0.0</td>\n",
       "      <td>6.138415e+10</td>\n",
       "      <td>6.138415e+10</td>\n",
       "      <td>0.0</td>\n",
       "      <td>8.888889</td>\n",
       "      <td>11.666667</td>\n",
       "      <td>25.833333</td>\n",
       "      <td>86.0</td>\n",
       "      <td>2003.2</td>\n",
       "      <td>1.645491e+11</td>\n",
       "      <td>10505360.0</td>\n",
       "      <td>1004480.0</td>\n",
       "      <td>1.108420e+13</td>\n",
       "      <td>3.616128e+12</td>\n",
       "      <td>24.480452</td>\n",
       "      <td>0.464182</td>\n",
       "      <td>34.8</td>\n",
       "    </tr>\n",
       "  </tbody>\n",
       "</table>\n",
       "</div>"
      ],
      "text/plain": [
       "         date  Plant ID  diversion_rate_kgM  withdrawal_rate_kgM  \\\n",
       "0  2016-01-31    6014.0                 0.0         6.945383e+10   \n",
       "1  2016-02-29    6014.0                 0.0         6.138415e+10   \n",
       "\n",
       "   discharge_rate_kgM  consumption_rate_kgM  avg_intake_temp_C  \\\n",
       "0        6.945383e+10                   0.0          10.277778   \n",
       "1        6.138415e+10                   0.0           8.888889   \n",
       "\n",
       "   max_intake_temp_C  avg_discharge_temp_C  max_discharge_temp_C  \\\n",
       "0          17.500000             31.111111                 100.0   \n",
       "1          11.666667             25.833333                  86.0   \n",
       "\n",
       "   Nameplate Capacity (MW)  max_withdrawal_rate_kgM  elc_mmbtu_in  \\\n",
       "0                   2003.2             1.758973e+11    14311933.0   \n",
       "1                   2003.2             1.645491e+11    10505360.0   \n",
       "\n",
       "   elc_mwh_out     elc_in_kj    elc_out_kj  modeled_discharge_temp  \\\n",
       "0    1368449.0  1.510052e+13  4.926416e+12               29.050922   \n",
       "1    1004480.0  1.108420e+13  3.616128e+12               24.480452   \n",
       "\n",
       "   R_combined  temp_limit  \n",
       "0    0.464182        34.8  \n",
       "1    0.464182        34.8  "
      ]
     },
     "execution_count": 11,
     "metadata": {},
     "output_type": "execute_result"
    }
   ],
   "source": [
    "plant_data.head(2)"
   ]
  },
  {
   "cell_type": "code",
   "execution_count": 12,
   "metadata": {},
   "outputs": [],
   "source": [
    "max_output = plant_data.elc_out_kj.max()\n",
    "max_input = plant_data.elc_in_kj.max()\n",
    "deltaE = max_input-max_output\n",
    "temp_limit = plant_data.temp_limit.values[0]\n",
    "R = plant_data.R_combined.values[0]\n",
    "max_withdrawal = plant_data.max_withdrawal_rate_kgM.values[0]"
   ]
  },
  {
   "cell_type": "code",
   "execution_count": 13,
   "metadata": {},
   "outputs": [],
   "source": [
    "flow_rates = np.zeros(len(model_df))\n",
    "for i,T_in in enumerate(model_df.modeled_stream_temps):\n",
    "    flow_rates[i] = calculate_max_flow_rate(R, max_input, max_output, T_in, temp_limit)\n",
    "#     print(flow_rates[i] > max_withdrawal, T_in)"
   ]
  },
  {
   "cell_type": "code",
   "execution_count": 14,
   "metadata": {},
   "outputs": [],
   "source": [
    "model_df['flow_rate'] = flow_rates"
   ]
  },
  {
   "cell_type": "markdown",
   "metadata": {},
   "source": [
    "## Step 4: Calculate the necessary power reduction to be under the temperature limit."
   ]
  },
  {
   "cell_type": "code",
   "execution_count": 15,
   "metadata": {},
   "outputs": [
    {
     "data": {
      "text/plain": [
       "96984767711.95044"
      ]
     },
     "execution_count": 15,
     "metadata": {},
     "output_type": "execute_result"
    }
   ],
   "source": [
    "model_df.loc[0, 'flow_rate']"
   ]
  },
  {
   "cell_type": "code",
   "execution_count": 16,
   "metadata": {
    "scrolled": false
   },
   "outputs": [
    {
     "name": "stdout",
     "output_type": "stream",
     "text": [
      "Shutdown required\n",
      "Shutdown required\n",
      "Shutdown required\n",
      "Shutdown required\n"
     ]
    }
   ],
   "source": [
    "threshold = 0.01\n",
    "N_iter = 100\n",
    "derate = np.zeros(len(model_df))\n",
    "\n",
    "reduction_list = np.zeros(len(model_df))\n",
    "for j in range(len(model_df)):\n",
    "    flow_rate_exceeded = model_df.loc[j, 'flow_rate'] > max_withdrawal\n",
    "    reduction_list = np.linspace(0,0.99,N_iter)\n",
    "#     print(reduction_list)\n",
    "    new_temps = np.zeros(N_iter)\n",
    "    for i, r in enumerate(reduction_list):\n",
    "        if flow_rate_exceeded:\n",
    "#             print('flowrate exceeded')\n",
    "            fr = max_withdrawal\n",
    "        else:\n",
    "            fr = model_df.loc[j, 'flow_rate']\n",
    "        \n",
    "        t_out = calculate_discharge_temp(Rc=R, \n",
    "                                         E_in=max_input*r, \n",
    "                                         E_out=max_output*r, \n",
    "                                         T_in=model_df.loc[j,'modeled_stream_temps'], \n",
    "                                         w_in=fr, \n",
    "                                         w_out=fr)\n",
    "        new_temps[i] = t_out\n",
    "#         print(t_out)\n",
    "#         print(model_df.loc[j,'modeled_stream_temps'])\n",
    "#     print(new_temps)\n",
    "#     print(new_temps[new_temps<=temp_limit])\n",
    "    try:\n",
    "        idx = np.argmax(new_temps[new_temps<=temp_limit])\n",
    "        derate[j] = reduction_list[idx]\n",
    "#         print(np.argmax(new_temps[new_temps<=temp_limit]))\n",
    "    except:\n",
    "        print('Shutdown required')"
   ]
  },
  {
   "cell_type": "code",
   "execution_count": 17,
   "metadata": {},
   "outputs": [],
   "source": [
    "model_df['derate'] = derate"
   ]
  },
  {
   "cell_type": "code",
   "execution_count": 18,
   "metadata": {},
   "outputs": [
    {
     "data": {
      "text/html": [
       "<div>\n",
       "<style scoped>\n",
       "    .dataframe tbody tr th:only-of-type {\n",
       "        vertical-align: middle;\n",
       "    }\n",
       "\n",
       "    .dataframe tbody tr th {\n",
       "        vertical-align: top;\n",
       "    }\n",
       "\n",
       "    .dataframe thead th {\n",
       "        text-align: right;\n",
       "    }\n",
       "</style>\n",
       "<table border=\"1\" class=\"dataframe\">\n",
       "  <thead>\n",
       "    <tr style=\"text-align: right;\">\n",
       "      <th></th>\n",
       "      <th>modeled_air_temps</th>\n",
       "      <th>modeled_stream_temps</th>\n",
       "      <th>flow_rate</th>\n",
       "      <th>derate</th>\n",
       "    </tr>\n",
       "  </thead>\n",
       "  <tbody>\n",
       "    <tr>\n",
       "      <th>0</th>\n",
       "      <td>20.434264</td>\n",
       "      <td>20.936538</td>\n",
       "      <td>9.698477e+10</td>\n",
       "      <td>0.99</td>\n",
       "    </tr>\n",
       "    <tr>\n",
       "      <th>1</th>\n",
       "      <td>25.346701</td>\n",
       "      <td>25.734207</td>\n",
       "      <td>1.483097e+11</td>\n",
       "      <td>0.99</td>\n",
       "    </tr>\n",
       "  </tbody>\n",
       "</table>\n",
       "</div>"
      ],
      "text/plain": [
       "   modeled_air_temps  modeled_stream_temps     flow_rate  derate\n",
       "0          20.434264             20.936538  9.698477e+10    0.99\n",
       "1          25.346701             25.734207  1.483097e+11    0.99"
      ]
     },
     "execution_count": 18,
     "metadata": {},
     "output_type": "execute_result"
    }
   ],
   "source": [
    "model_df.head(2)"
   ]
  },
  {
   "cell_type": "code",
   "execution_count": 22,
   "metadata": {},
   "outputs": [
    {
     "data": {
      "text/plain": [
       "Text(0.5, 1.0, 'Power Derate at Brunswick Nuclear Due to Climate Change')"
      ]
     },
     "execution_count": 22,
     "metadata": {},
     "output_type": "execute_result"
    },
    {
     "data": {
      "image/png": "[encoded data removed]",
      "text/plain": [
       "<Figure size 576x396 with 1 Axes>"
      ]
     },
     "metadata": {},
     "output_type": "display_data"
    }
   ],
   "source": [
    "ax = model_df.plot.scatter(x='modeled_stream_temps',y='derate')\n",
    "ax.set_ylabel('Power Output [Fraction of rated capacity]')\n",
    "ax.set_title('Power Derate at Brunswick Nuclear Due to Climate Change')"
   ]
  },
  {
   "cell_type": "code",
   "execution_count": 20,
   "metadata": {},
   "outputs": [
    {
     "data": {
      "text/plain": [
       "0.9190416666666668"
      ]
     },
     "execution_count": 20,
     "metadata": {},
     "output_type": "execute_result"
    }
   ],
   "source": [
    "derate.sum()/(N)"
   ]
  },
  {
   "cell_type": "code",
   "execution_count": 4,
   "metadata": {},
   "outputs": [
    {
     "data": {
      "text/plain": [
       "'s2'"
      ]
     },
     "execution_count": 4,
     "metadata": {},
     "output_type": "execute_result"
    }
   ],
   "source": [
    "\"\".join(['s','2'])"
   ]
  },
  {
   "cell_type": "code",
   "execution_count": null,
   "metadata": {},
   "outputs": [],
   "source": []
  }
 ],
 "metadata": {
  "kernelspec": {
   "display_name": "Python 3",
   "language": "python",
   "name": "python3"
  },
  "language_info": {
   "codemirror_mode": {
    "name": "ipython",
    "version": 3
   },
   "file_extension": ".py",
   "mimetype": "text/x-python",
   "name": "python",
   "nbconvert_exporter": "python",
   "pygments_lexer": "ipython3",
   "version": "3.8.3"
  }
 },
 "nbformat": 4,
 "nbformat_minor": 4
}
